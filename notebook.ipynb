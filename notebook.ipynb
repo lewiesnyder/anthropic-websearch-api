{
 "cells": [
  {
   "cell_type": "markdown",
   "metadata": {},
   "source": [
    "# Anthropic Websearch Tool\n",
    "\n",
    "A simple examlpe of using Anthropic's [Websearch tool](https://docs.anthropic.com/en/docs/build-with-claude/tool-use/web-search-tool)\n",
    "\n",
    "## Usage\n",
    "Add your anthropic API key to `.env`: `ANTHROPIC_API_KEY=<your api key>`\n",
    "\n",
    "In this example, we ask Claude about the Pope - one of the most substantial current events. \n",
    "\n",
    "Since Claude's training cutoff is long before Pope Francis Died and Leo was elected, so it is unaware of the recent events.\n",
    "\n",
    "In essence, this is an example RAG pipeline using web search instead of using vectors or graphs."
   ]
  },
  {
   "cell_type": "code",
   "execution_count": 1,
   "metadata": {},
   "outputs": [],
   "source": [
    "import anthropic\n",
    "import json\n",
    "\n",
    "from dotenv import load_dotenv\n",
    "\n",
    "load_dotenv()\n",
    "\n",
    "client = anthropic.Anthropic()\n",
    "\n",
    "messages = [\n",
    "    { \"role\": \"user\",\n",
    "      \"content\": \"What can you tell me about the Pope?\"\n",
    "    }\n",
    "]"
   ]
  },
  {
   "cell_type": "markdown",
   "metadata": {},
   "source": [
    "## Make request to Claude 3.7 Sonnet as a benchmark."
   ]
  },
  {
   "cell_type": "code",
   "execution_count": 2,
   "metadata": {},
   "outputs": [
    {
     "name": "stdout",
     "output_type": "stream",
     "text": [
      "{\n",
      "    \"id\": \"msg_014MdPgqgfeooFqgUsJDqGnv\",\n",
      "    \"content\": [\n",
      "        {\n",
      "            \"citations\": null,\n",
      "            \"text\": \"The Pope is the Bishop of Rome and the head of the Catholic Church worldwide. The current Pope is Francis (born Jorge Mario Bergoglio), who became the 266th Pope in 2013 after Pope Benedict XVI's resignation. He's the first Jesuit Pope and the first from the Americas.\\n\\nThe Pope lives in Vatican City, a sovereign city-state within Rome. The position carries significant religious authority for Catholics, who believe the Pope is the successor to Saint Peter an\",\n",
      "            \"type\": \"text\"\n",
      "        }\n",
      "    ],\n",
      "    \"model\": \"claude-3-7-sonnet-20250219\",\n",
      "    \"role\": \"assistant\",\n",
      "    \"stop_reason\": \"max_tokens\",\n",
      "    \"stop_sequence\": null,\n",
      "    \"type\": \"message\",\n",
      "    \"usage\": {\n",
      "        \"cache_creation_input_tokens\": 0,\n",
      "        \"cache_read_input_tokens\": 0,\n",
      "        \"input_tokens\": 16,\n",
      "        \"output_tokens\": 100,\n",
      "        \"server_tool_use\": null\n",
      "    }\n",
      "}\n"
     ]
    }
   ],
   "source": [
    "non_search_response = client.messages.create(\n",
    "    model=\"claude-3-7-sonnet-latest\",\n",
    "    max_tokens=100,\n",
    "    messages=messages,\n",
    ")\n",
    "\n",
    "print(json.dumps(non_search_response.model_dump(), indent=4))\n"
   ]
  },
  {
   "cell_type": "markdown",
   "metadata": {},
   "source": [
    "As suspected, Claude is unaware of the current events.\n",
    "\n",
    "## Make the same call using the `web_search` tool"
   ]
  },
  {
   "cell_type": "code",
   "execution_count": 3,
   "metadata": {},
   "outputs": [
    {
     "name": "stdout",
     "output_type": "stream",
     "text": [
      "{\n",
      "    \"id\": \"msg_01SEW84RgQrCUiTMMX9LiQgw\",\n",
      "    \"content\": [\n",
      "        {\n",
      "            \"citations\": null,\n",
      "            \"text\": \"I'd be happy to provide information about the Pope. Let me search for the most current information for you.\",\n",
      "            \"type\": \"text\"\n",
      "        },\n",
      "        {\n",
      "            \"id\": \"srvtoolu_01WE2aDaMMEVovwMAsGg67dn\",\n",
      "            \"input\": {\n",
      "                \"query\": \"Pope Francis current status information Catholic leader May 2025\"\n",
      "            },\n",
      "            \"name\": \"web_search\",\n",
      "            \"type\": \"server_tool_use\"\n",
      "        },\n",
      "        {\n",
      "            \"content\": [\n",
      "                {\n",
      "                    \"encrypted_content\": \"EuwfCioIAxgCIiQwZDFjN2Y4Mi04NDI5LTRiYWYtYjYwYi1iYmNmMjRmNzM1YTUSDFXkKDRceWIQnK6yLhoMJ31WY1TyHV5bW/SRIjDnxmeDpmN+KL/ueeykV15rDPpJlME71ScATjLp4RMLa3bJ6VG4fYeQOoknJxSU7twq7x4Um/dnL6/e93XinMlzR01Q1ZbaWUPDZb7Va2njdcNiwLDLP26CBhQImIZwYGBCPF0dsLZkbXwqsOPrFs96lo27IAa2FmBIXI9oiCaq0TvWd610e4UHHkt1xEmd0tODIKytSqp2hSS6KhUe+i7s9ezxWTyKNbmLzVa8YagrSCxJujfgNHZszb4p68aRPm+/hXcyMe9txFMF4lof1gnV2gJMQQ4Sid4VnRuRyf6/Xnh67TuYuY7+zhkeSUuIuMNOIIZDCk/zicRn0om54eaG9bxf05ZoOAeEyO+3vIYSiFGOM+RMLzYNesfB/DBvwCstEu0MKrd22YNTbi418qyy0xeX6jQrdclH5PRuhWBnxoJW5/wA5WEzajaYzJqGHlF5ApM3aDBtTnf43hYNX0pidbJ8/CarzUAqXBDT0hq333+TW2uWyHWI1MYr8RPB7vdqiApPftPrvKBEVgIB0LSySaYAH2kYOiMPWtU49kkx2YNoveBlw1HR7QcSobcr/zi7sqbXlKo8E+PDvvQRoFCm4QUv/3YeqE9dhQwtlxth8qGBr50VaN6Pw/T6lSlW+7tvmuoKscTXk9GppGHleOf1yDMfVzsMXbkYp4iAyW7YKIFnKZChVwJKpGPoEt2X8FkCWS8LzEElYsj7fI9XZsijJQFPHYbiPyMHx1sDKxwD9uOtid4ZyUlnKJn+SHZDGVQjq89bYvWiuFTwjN2K0TrY+CsnxbTbCn+Grhwry7vHxZlevRzKuM0UIzznm1QVrAIsN0HHWoNHg8dIOzoDyPmihuw0RBCQz6q9Kzi6u1YBAxG8pKujeLc58UjOkOm9ypNkLTaHPL94N7jby0ukwg6OIVDY70LvzEEdpeKelqL5GangaTmpUbeLwV1te8vZLAMstaegsSo03vPTEY7DRVVm84yxvUlhBYkQH51dy87I5lj0uTmB1P7dY9f27nnmGtHCDyR3BNv24DuLjxdpKMaQvnKHIy/zG8SE7iVMIDuG6hDi6GcB6sKDSG6OlxlFSU7Ij+Pn4KyAnI052v/oyKDBzOwe4Xa1A6vsrxdp4SFHWfH0q/qMzmR3OJ68hhnZK6GEbWbvs9YuOVvWES+mbLdVkV2HnzxLJT9ygs9lA+0E0Ni2HOykXGEEEgHbT20ypwGprIQZloF0QMPLVRG7FFh+5lyTIln4IF1mhGcezM7W8Xy607gbs2XgS0l2oqw3IaVrWnATOjsE3GZAtBvHsaj4X7QhcxkgpUffIniIQoCZYV9ZDCYwKJLbjmV01Rpn4u8bIeTHViSVNaeErDgYKXNZBG28Q5Ae7Tt5xJyhsnu8QsaUkjXUA5YMEbvWMwPw+2EBv7SbndLT4qmNXLUctaExb2OyM7eXl6BVcrNKMNrF76sJuyTC03XLkQwbdb3Fi2nzGVfeNv8eLVQ+cuxw+ijsslOoO4iv00YmcocaPnH82eoXX5uoXkgBQ7BmQmmdgstJF3q+Konn0FUlpLRrnImFlweh4LUp4XI16WBQwN78SKJAQ6aZV+gN2n75ZaopZA7ABNXK88sDJzQfjmHLrSxcN/5Qkmf0BkSqlmmCJ1h13vRYJCH72eUe++ir5heFWtKCTQXdbGbfyWp/DfRe0lnjivngSs9UjBgxtgRUjd6l1AusvWSbiT3VJcWuhNZx9bBhAlOzlxieRoliJ8UenfmYWcKekQ2gnDvFKjqmkC9/BBkjp8vhW7RdQE81v9XstkYhS6+o61K3oTt0FkLZj/iHYanFoqce/Hg5MBKYcHYCsQ/6s3fKR4h7I+PbZMJO7SJy3HXwya5FH3jiXCdoooi8lDAIcG6rHyE8xAgKpWAM8wldx9qugEaS0nvZIVL5KWTHNCqJLzd/PD4aaQ9jwuBmqMGkavAqeIG0DxA7l6XRcObL0r8mRQ7fyDIaSA8RIudwz9Iupcf6agkPuete0naNXcOGubuL78QEyCIzougv7QE0qOek1J015OR4JJngK12+XwKhVcd5XVWN4REVNqI5VfsX93Nc5WmsDcE83uzb2ZfRGPY+N6fQfbpeXES6KDUO/jWC9djbaJRoMwpD6C3qybdF/WqXd/Sp7yypoElUlNptzYLxlgw9zoMHitpt+K8fssLsqN5mdo7qvzQooeMca42kG0MIX8gBO9NfdoHFsW7jkW0gqRBkBiY1ewDeWcn5O8sUeOzklJFul/UQiOnoc1HzjliwgmHHVAFHkZm9O1GuE0LJYugBA6xyrd/UphUFP4UcWXNe5Aj0CQ9ZuTDTvSqx259FYvBh0yimSQCNy7MvAMUDp5EAGZbyFoo7kF+DeOdmcxrSmkpmMqaRMhiuuHs7DFRtmE6tkZH6rKKQvqyvXI+xMDpmuXS2uXnHNEc+jVjs4/WM/4xvxEWKeBBaPj1lACukaVR6Nk6EZUybu3LuB+TgX/h/PLDLffhqRv8vI/xBTdV7nkgjdrxCFNAUbjhh8k65BBhWjvslbkayUfBld0XthcNXZ6odxPx34tHw9U8nsX2u0aZHllgSMrqppr+fz4xOZnOJU1GI98u7OlIOeKkI6gV318sje0WHXjrryCmCNQabJgkyTbVqDW7eml2wpQFQ8PaHvS2JdpQIH44Di0CXvTjKwOzhrnuSi9jcYDPZGKlmUfNK+YOq/jhZbaLt8MrfG8VGLq0sGzWD8cf26rVKi8iFXjHS0FfZc8VlAD9SNykQQP++XSOc+IusLXmZlfBlt+Yhg1WuV1zTS6Ca/f37FCEoPf7s2wnsS9Kw/XH27Lwrh3pqMGhSwYWcyAP5+0pR7W6h39cnkwhmQOtQE+hAYE4LNf17eH4wVytbr93AD/junsF3RKfvDTI1+tU7ek+OXfYsjaltJjHBk4uQ5BWmNHy6JbrzhlVkUedWu5SxixnuxlMJg7nMpV2oDG7wiJ3dDt9R89fIg1k3co1CfyxgkCPE561ues4SJNyML5VJrqjZbad7x9GP6/mWqkhvfhqd1vPu3pVG9x/7wMz7n9k2pQ7Eml9ZkaagoZepVnlePj/4jjZUYUC9L5zQGw1YzbtM9vo2ctaJlvFfI1OekXzR6HhvSOfqUNLd/m7jiZNgnYlDWhKPYk6zG3ARi4ZG/3W83GWGx+Vq/DMX38y4V2fthr/13fAZLxZZGOHVOLSDR19XmvqngVsl/5EjvbypgoebT2DXsjbn2LqdGJB2erXkf7U1fqOffFD4goQWXGG4mGQLsg+TLimx1NhCAWd6i3guNN7z/u5CEltR/KptXQ0U6jT/Vm1qn+HdGMq2jM9hIUhTk4r6VWjZbyMD/w/kloUgk43FrpZj2k7yyWyiR7pezcH6TKJ1cTff/xNlbgCq2VhJH+zOJnHLa7pOMvfqJq1UGtp6e4KMtAlUIkW+BAJ/lrDjT3K+bpRhrSf2fzoVwPVsUDwBw8/yYtneO85DcALRePxAMyZ3KB2kO8lbOaBgKH4RSgIsnQWfa7ijeccyU6QQ1avuxwW6fnmDT+rt1ZG/t/fqVFYaphk9EjkjcYG8Wbd8VINTd8giVhUUoZzFEmMhhhyz3+CYM+XvEiBmAgzw9+rsZ9MO+Fic22YOJqeozaEU8F3StbsKpQ2T5NejYdGWEEnC4GL1aEJ35PSCibtavx3yP6TnMIzhisIFvtkErDeRkYOQcicODsZIqodDa36DALebBOkoGBt8XAn3VXhYNiTLOtvcNHTRwIwNqKl2Nhiq/d+a8H5VE5suv8pBWL71iikPmqT7+34Kgwbwzcuw1NQOA4LEV0oxTMcEFg5u2db5AFzUVDUSKp+Yz7nozqudjuelOveH8jBOo9zENv/BpZ9w6CjuC8Xn9ghuxfHqgGvj6e9b+tbNfAqvLO2OfP6OjILCwxtS+Fekj2AyojQhV9dcxCjr0OhLkmwnIHBFyLOS3E2snZy4xe2pDYMaUiZCZebQMzmBhcNqEeqkOkVnvHz7wsB6uJebIIyML3I2X7iRPAqjiKoU+29VfByECVX2y0TyBrX6fAKyWgDOdxiKwR/HKrAHQdIg/2jsa9UfzxnOXmX0W1jiB29Q8kkbmTQ0Rqu6UC0q5mC6ug7wHKxVQDiWlhEWCARtt66N6PzxQ+0ZtIBGHC9g0h7Z8Cy2Ah/f/8vQZO+/iinTMRV/FmsZhjS8zu2z2LaiGw+9nDWHqWUI0ftmIZ4eR0x58vh3boi50w0DUC30c44a+EdTaClWBUZEGMDGXpVDqAcTZihmpe9kyxqVoTpvnJ66UUo/KyinMccA0WzWYrSXoRCrSwovhEDlwKm6vwYusWTPFiOgbazciHiez0xGfebQBAJ5DqKhG9Ems0VspqZtt0uPHSscRzl5ubBKcjgT/4h1Zfsn+tHc1WohkHNM+sCTrau/DTR4fOrqCLGUWO5YjReohbdLo/xKehQezjKjrTzYqqNdEMOPbSo6YxhbGtO6SG3HQJjQce2uQy9uTa200uQWMYo2c9Fs1FseWk7WP0BPA0dzukbWhHXwrk/bWQnnNm7q4ydJDiDKRRP/4cVWLs7SciEyN9rTU+hxFdkqsbuoR5kdtMNgpn72e//oHbCpu2i0tJWugTcPINGtjlPzP7lzYQbDEJIMPARQlYaVo2rwNusc6Anbh28xOTFzHnKsnTJqyY+W+h1Tu3M6VUnbYB0Hq+Ch0eCCFkixTd11i99YGWgxENbmuhqApo0w8eSxtOdnNl6bdWG0bJUy8+2m0HRcglkD4p7dM/BqAcMQTg3IY2xJNNUIQjZae7BgJPrWSX1C6gSqUBt3YRkZB4Z32nl5cDiqNx5oWJg4dSEn7650e0/gdJKHSfGRTfgSsxrknD4zFtu+NDQWrZbC3dlVn8EYCGLYgPuGY9i+/tNVhH04AwVfVZ37aLyZDCRGzRftrfoa4o/Q3Z593PqT8E5YQaHVtTuaNJv/jDb2/h8/pqs2/xYBwyrjdhO1O3RO4vjyNplwgLRmwm/8RWEmIyi8cu6s7xgQkTi16aQjClHtFe48vDmFN1uWjVJUahYLQvoeN7qIFkynO84OQPSijH1UZsmzb0aZFd5QR0gLpYocWK4VturVI65XEp1upW/tL4JbvtQ8M+aSwt2x2At42KGHCJfRT3qxKGPv12xXm0YKtvJZ1QX5pXLttdw1r24/BxHfi/07znrHss+lI3W1Zalf4lNRY+hSPW6cjj1yUslddlVBukiyntovj3zGuqMWI3DrzHw8J+zZFYIjix4PNCWvLprF8ymEK5gKZInc2GU4z0Hcs0yfnxD7yKbNsN2oO1OQvnAX0K367dU+IMuh3t9fzkUYAw==\",\n",
      "                    \"page_age\": \"2 days ago\",\n",
      "                    \"title\": \"Robert Francis Prevost becomes first U.S.-born pope\",\n",
      "                    \"type\": \"web_search_result\",\n",
      "                    \"url\": \"https://www.nbcnews.com/world/the-vatican/live-blog/conclave-2025-live-updates-rcna205525\"\n",
      "                },\n",
      "                {\n",
      "                    \"encrypted_content\": \"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\",\n",
      "                    \"page_age\": \"7 hours ago\",\n",
      "                    \"title\": \"Pope Francis - Wikipedia\",\n",
      "                    \"type\": \"web_search_result\",\n",
      "                    \"url\": \"https://en.wikipedia.org/wiki/Pope_Francis\"\n",
      "                },\n",
      "                {\n",
      "                    \"encrypted_content\": \"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\",\n",
      "                    \"page_age\": null,\n",
      "                    \"title\": \"How Pope Francis holds powerful sway over the 2025 conclave | National Catholic Reporter\",\n",
      "                    \"type\": \"web_search_result\",\n",
      "                    \"url\": \"https://www.ncronline.org/vatican/how-pope-francis-holds-powerful-sway-over-2025-cardinal-electors\"\n",
      "                },\n",
      "                {\n",
      "                    \"encrypted_content\": \"EvMYCioIAxgCIiQwZDFjN2Y4Mi04NDI5LTRiYWYtYjYwYi1iYmNmMjRmNzM1YTUSDDvxhkGVArkNgN4aqBoMaHoIdQ456Qpt3WKEIjDg9uPpC9c+1Y/4vcxGGU1ekKWYzEQH2mvXnzoMOV5qIfcvDg6Yf2+r1v1KanFYD8Eq9hdqfYspLIIHGrW8Rf4YuIu/cgA9RLpURh3EwE8XIRY7fu7eYpjrsoptU8y4Kxe4ntI5Q5vPhoTDRwAEiH++25N26fr8UK/HwbX81Q+il7kaIJ1iZ7emsLnVpTi4Bp+In5qetzeOczoUbPqFbzE3ywAq6iEm5W8osNA3QHfY0PlBD9oLKzLezkRwnAEMde59Qh3y7EakT9kt4yu2L+XfgMq9gFxowA2P0DDms9ltnT0SmlgvAkENvUGHhVTl32Wi6Y+3v3GFVYrgrqCjN2DutwLQv4R5zO58OsjflXisHjiU8CFa1SsQPThMzveIGG4hH5h6pj26Mbw6OaAuKM4UNgoU5IcZBUIvDRmbYw2TvyUgypGLGFlbh+d7QdmMuldV4RQ74WMFaltv+jdOjCWBe9Tz8gNxDMPTSs1ZbxMskn2TbiR9sPJB+a4y6+T9WH/UErjiLMZuBYcUo467FxwzmyZQlN28XZGbcFW1RGBC/NfGf7UyfJRIU/n/bbP5vNN7lJphzaLFsSRXbkDZvM/skCgi09QBrJwG0STz8R5ciKmYov2Aa4nla9/rLWclrEZSyh0AwPLetTexx0b3EY6B1xgjbcNJAzejy3jeEAEwOYCad4xWrj1K7W59nmPWboWxMPOqLXdNQZzn91E4+h7HnT7ZS1nrQq/S5WuIkd0qgk6mV54JRDtrbjek5WYktG3lmoCakpk/TtABOGHnya7LAlCH595NhwsBxKNFu6D5ZD9isVWDUPqA5cviDSPUlOMlEBFfrGJCoGtuLRvbn2fH864fYeMe1uU0FzniVmIbFIINCuj0RRYJO/ZbLSy73aVEkI4uhd1hRbhIcT76fYZdnD3nvcUW/KQ05nd6aFxF0hfosTBAt51kHiwn6DyErcrOm8/oW5ygvZU4q55/vk0+wMeHIo6Oqut+B3bG0G2TrFUHNiIxLcBlqPKSAjfFtHtemqsad/CXzxmsrucsKlane/A2ZdWlCcfKsOy2/RewPl1Dtk93/gH9gRFuvLUt6Gi0vVkNdy2cJny/2X24V7n1BReK0yS+nk751sLVxlga4unMJswCamXOoSRwaf1qnh1etPRjtuc5YGw5fKGRmlN+RxZXrQojKRM6t//cDAfuXfT/A3FVv2iXHVAp9cbat6wYJjtTDp+FP22A0+7yG0RKR6jqUNhzSC3L6CkdyKNzjYq7+gOj6bmpOyfWOnR8KPX2oXEh8byMzi1nBmqkSmEK0h7bYFCoHl01L0AnaAnYqQHli4AMfOCo3Lyw3Pt4EjX/fJ10aek8yi7ImzAA7L6xRkHUKazM+XSbL3Gu/3cxOvzBXrmR5cma5JqGjq27tkDsKQa1j+LP2OhkFZGiMYclxQ/4bKMEf2396AicMrRITXqw53YZbl9Dh2s6gSjUJl5DL76A7OZ2Nk2eByneFOpBkVJ3Stpa5LLTEhBzY30jSxT3wtdNR7OVJSIR9p3V+3QavHoXD+KwBNNx5Iqinge0UgQ8OcPV5eBi1BUQj5Uf5BP9VzgAPnM0RYlC4RPpQ9KhdW8iCsIx4/3OD9dlLlpN1W6XT2XcwW1pB4ig4iyFl8p6OwqW8VzVJljlVwh2SWV+DG6JNVRF79AMDuR5xHgsdRc8Inxok1zQxnKEGr/NvX+4jZ9w+uga/tnPaArK7WxVQZBxj4R12dD0UlakLO9AJy+VEmg+5AXGyOmHTKRMv6Z/03EgKg0jcof72lwWkVYfQezNjmyq1MLn+hJvGFQ5fDOIYJSuVQvo3NdVqnVIxQOe/g1XZUQTatRK+EJszmtI82bkzkRENo6Yb5IEhCxSBsAui/EwFJLtPLj4hAakYBX5ZuUMel1uzYepkS/+eEVis2TIJxDbdvMxRazOHwb6z2Nhf2GTE/dnDZkKwyTliCYpY+YdTWo8gENsLnc9Zje3IxpkNzDjNW+VX5FbAILb6DgD4vQ81zvLxpkRlg3HhSDUA/j/NI+blgEtDiWolZBs49J7mtylMuuyE17sxjn1HLlJqg5SCIvrangi1PDiQ6C7X2ZtSx2JUDiLps16kGGJoUdXCWnY9yrRNvbN2HX0/bq9L9tz4c0hmY5PyVBYkYAkeS3nEvJKrNmKKyKqsYi6qSRFYjIMIPbS5CgUsmif1BJmhdxTC0AgoI8hYTBrTPcjo7JEhHpIyGY6SmST0kEP29T85faF1cr/2hOpxNd2/OUqhlQ7ixoqverwyRwAN8NxGoWI95ZCNXtLCcVRvbR8MIt1mr/62X4YlTD0KBIHKwf51uaA6WbWTYo+cNTCowz710td0fF3pEVChbu4q6FneCj03LxtCcHlHIQLzqHpPH37vpvglerapaPZDnskbmTpYwImaty1AhJdQrzeSphC/b2j9IvWrsm5MdwTXyN5iNzh9bbYWUCuzCPWcoxZXbBBkpc9YVZNkbuMW1uLkcVYnq/vP11tWrr4VSs9N3Ls+jF6Ai4SnFZ0LJwG8Flwkmm2G5R5DM53+4aIImOFO9uk9rumIO4VtAza1zVn6oSClDSC0Hucg1bw6eeQTVnmn/yJEu+Gmo3Tms7I4PG2iBBmZ3GsVSkWVmSME6yiuM9+hx8s+M+cv1ZHknwzPasLKEomtCmk4+jWBa4U6Q8hqTI3d3O0JI7Ulmv+SmM3weGvZUUcVwUjcG0tQi6u/1++G2eRZH52RceyUKspD9I7RK6CCvMDO3mjuCvNy6psDjjaz9EsR4zjjeD9TTbJxZzE4pqwfBU9p/UMp0xVI+liEBzmY8P1PvCofwiLD5jP2OAQlBHZG6s0XK5uSEQWBGlslnjsGugNLsLY9ouWbEN/yfX/P1l1KH2qEU9hqHouVZ+Wvf9f8K+m9exHSbFZBkdgNl4FLihf8GjhtNe1W8F66KoHGt+dh0ReUVTE/rzTkCb4gVL2hlSMJZGOejpd31+twXe4tdra+AVPjVG3BDwVKCYiBkyQpNTxDViVcUGzdzMSfhcaXF4fbD7Ew2BCqPIxhy3li25Cq8w+5Zx45FSXt5FfNp0Xa7SGPyper0hcYVreYcVH9qhmOMmmnOtF78W3YbhMjqGZ86OAc7buUFfIW3RyOx0x/CgmfqG8j/uwjfYgkGXTVm3Oh6vAI673FXl4URVDMCpOmBo+PHREw4oYG1B4axwhhvWo4cxE7lWhcsNYi3jm+gCPHfrOOQ1+gxpnJhPqHrInKn6w5mjZHNp6w4ojSY4LbhVqACapx/lYaHDP2vSkUJPVTf/e92hNUciX3rf27pg/BrZPhUovyMHY8A8iGQWGnMkZxIAsbAdxU/7wfOjqzGtuBMx+cSEknFvVtip+XeEkONljXHtbwnJQZHw2qLu5TiErpWpI1l1/CYpSLJOTIDZSFcPfOHn5/+8aNlWKgxjSdsEeCLTA5nvmZkBdkP6JbqI6pam2RsvTJfcLWgxSNAyZj0vhl9HmUjVKZANW7iVcz+LcAbrCqNLi8J6URqvRS2djls01R2+VPfPU25mUKlwEJy9hyF3+vwmxbPMi/PxJqvkbXjzyWCrIowJokAJsAqL7GxIbbGfpc8JgCu1cmF1GVgvTKPOddXlUVs2fhotH0J//AmhVZIum/zvD7t4PV5JWEzcQxpI4yWLKQKrT93wBCzu3YCwNM6W2Ro/5ARnWRY4whA8AWvapfyyTQggz06K+DvohgwWK6IiuK7ncH90SCCDZDyboMGWijFOAGD+O6Lvp7angCbrj/AcoJxWNmVqafReuuj5rbwY35fbSGXbLFySBWVbtHkpS3JCwCuY/LIwMwvthqSkdCkwbxcxIdUy/ZeNqUtCmcdc3miC/NOKSGoSYT+vMgpkOxHB9U4zPmCiSxhNcl8VAAuPuwUEiXxXtn31fmIWmF7nvFZE3FAp3k9kiffvufAXYhtxs+/WSiaqNOyOClOfkR+AfprKPTo5IJvsSWFMRyBQgoYY+pDzjmXGNrPjEJgyaiweG+gNDmGTryj1IshqwN4DLX1lQ07oGEtXZT3Q2kAcGG2dXIKl4VvApnpih7ZIvy9FvGDEq3KXPk6kK9mhnSJ96v3Qed1Ewg9u/H83mzuN6BuC1hdBJ9ujKGaJpiXaT8t6fbg3v5Ca6UhgD\",\n",
      "                    \"page_age\": \"11 hours ago\",\n",
      "                    \"title\": \"First American pope: Vatican announces Pope Leo XIV\\u2019s official schedule, May 18 inauguration | Catholic News Agency\",\n",
      "                    \"type\": \"web_search_result\",\n",
      "                    \"url\": \"https://www.catholicnewsagency.com/news/263787/live-updates-cardinals-gather-as-conclave-to-elect-successor-to-pope-francis\"\n",
      "                },\n",
      "                {\n",
      "                    \"encrypted_content\": \"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\",\n",
      "                    \"page_age\": \"2 days ago\",\n",
      "                    \"title\": \"The Next Pope: Who Are The Frontrunners to Succeed Pope Francis? - Newsweek\",\n",
      "                    \"type\": \"web_search_result\",\n",
      "                    \"url\": \"https://www.newsweek.com/pope-francis-dead-papal-conclave-frontrunners-2035569\"\n",
      "                },\n",
      "                {\n",
      "                    \"encrypted_content\": \"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\",\n",
      "                    \"page_age\": \"2 days ago\",\n",
      "                    \"title\": \"May 8, 2025 Leo XIV elected as first American pope | CNN\",\n",
      "                    \"type\": \"web_search_result\",\n",
      "                    \"url\": \"https://www.cnn.com/world/live-news/new-pope-conclave-day-two-05-08-25\"\n",
      "                },\n",
      "                {\n",
      "                    \"encrypted_content\": \"EtUDCioIAxgCIiQwZDFjN2Y4Mi04NDI5LTRiYWYtYjYwYi1iYmNmMjRmNzM1YTUSDERkBO1GrG8PmrXZnxoMODcWnJofbYLnI0OWIjC9u+P69PbwUwp3AIGKQw6jsTYYTVX+E1ERUBTXY+Sx6sk26WCt7NNVRRk9YYF4ah0q2AKmG1eFbbhWdbID/AmCyxLHbN4v1OKBU3GVy1QxICcW9kRhIIWSmNZhN2fSE6bse2opm/2fC5fdsfPzjbSw/Zl23KaBk4f5EjdYaDpmfjLUNUTv94kN8NTrhdAoPu3UmYjgPczUlZHgzXNkWTmrTOUQ68munbOZCttWooPpTXT087aFSZvdaMn0s7GNsx4fkFI5Y8WZDjIeblcnk7kDkufYwQ1qcD2sGCjJxHq0MfVZkMTvGXzrTzaweFtiRUvOa01Mb0QXufol3Rq4tLbc5EpGjuzCXPX9XIaKScddPZzgUr5wMlh41DbdOSh05zOageobq141fAo0ben3gAfmUypBl/4UtJhzVmK1wVr2B27xxxZEqx0cR2D/WbUC4ovg8wVPkfegXKSxsylIkUQX6McVYZXrSYsYnAoYavxZCeFKFqxQqwddIAF1HnZDhbpR6rNSmcqL/U3vQxgD\",\n",
      "                    \"page_age\": null,\n",
      "                    \"title\": \"News about Pope Francis - All the latest news - Vatican News\",\n",
      "                    \"type\": \"web_search_result\",\n",
      "                    \"url\": \"https://www.vaticannews.va/en/pope.html\"\n",
      "                },\n",
      "                {\n",
      "                    \"encrypted_content\": \"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\",\n",
      "                    \"page_age\": \"3 weeks ago\",\n",
      "                    \"title\": \"How a New Pope Is Chosen\\u2014and Who It Could Be\",\n",
      "                    \"type\": \"web_search_result\",\n",
      "                    \"url\": \"https://time.com/7278963/new-pope-election-process-conclave-cardinals-candidates-francis-death-successor/\"\n",
      "                },\n",
      "                {\n",
      "                    \"encrypted_content\": \"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\",\n",
      "                    \"page_age\": \"9 hours ago\",\n",
      "                    \"title\": \"2025 papal conclave - Wikipedia\",\n",
      "                    \"type\": \"web_search_result\",\n",
      "                    \"url\": \"https://en.m.wikipedia.org/wiki/2025_papal_conclave\"\n",
      "                },\n",
      "                {\n",
      "                    \"encrypted_content\": \"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\",\n",
      "                    \"page_age\": \"3 weeks ago\",\n",
      "                    \"title\": \"After Pope Francis' death, focus turns to cardinals who will elect next pontiff | Reuters\",\n",
      "                    \"type\": \"web_search_result\",\n",
      "                    \"url\": \"https://www.reuters.com/world/after-pope-francis-death-focus-turns-cardinals-who-will-choose-his-successor-2025-04-21/\"\n",
      "                }\n",
      "            ],\n",
      "            \"tool_use_id\": \"srvtoolu_01WE2aDaMMEVovwMAsGg67dn\",\n",
      "            \"type\": \"web_search_tool_result\"\n",
      "        },\n",
      "        {\n",
      "            \"citations\": null,\n",
      "            \"text\": \"\\n\\nBased on the search results, I can provide you with information about the current status of the Pope and the Catholic Church.\\n\\n# Current Pope\\n\\n\",\n",
      "            \"type\": \"text\"\n",
      "        },\n",
      "        {\n",
      "            \"citations\": [\n",
      "                {\n",
      "                    \"cited_text\": \"Cardinal electors arrived in Rome to attend the congregation of cardinals and decided that 7 May 2025 shall be the start of the conclave set to elect ...\",\n",
      "                    \"encrypted_index\": \"EpEBCioIAxgCIiQwZDFjN2Y4Mi04NDI5LTRiYWYtYjYwYi1iYmNmMjRmNzM1YTUSDHJWSsOa3s34XABmYBoM3D4rNgIB5Y0q6W6TIjBSyBqdEZnLjzK7151gjkXVdS+34WB++BcjEDsWoIS0rlZoE39ySWNYHZRoLDM8bz4qFavEbfGlfchRKTzv3ascjCdjWwscDxgE\",\n",
      "                    \"title\": \"Pope Francis - Wikipedia\",\n",
      "                    \"type\": \"web_search_result_location\",\n",
      "                    \"url\": \"https://en.wikipedia.org/wiki/Pope_Francis\"\n",
      "                }\n",
      "            ],\n",
      "            \"text\": \"Cardinal electors arrived in Rome for a conclave that began on May 7, 2025, to elect a successor to Pope Francis. On May 8, 2025, Robert Francis Prevost, who was made a cardinal by Francis in 2023\",\n",
      "            \"type\": \"text\"\n",
      "        }\n",
      "    ],\n",
      "    \"model\": \"claude-3-7-sonnet-20250219\",\n",
      "    \"role\": \"assistant\",\n",
      "    \"stop_reason\": \"max_tokens\",\n",
      "    \"stop_sequence\": null,\n",
      "    \"type\": \"message\",\n",
      "    \"usage\": {\n",
      "        \"cache_creation_input_tokens\": 0,\n",
      "        \"cache_read_input_tokens\": 0,\n",
      "        \"input_tokens\": 18388,\n",
      "        \"output_tokens\": 186,\n",
      "        \"server_tool_use\": {\n",
      "            \"web_search_requests\": 1\n",
      "        }\n",
      "    }\n",
      "}\n"
     ]
    }
   ],
   "source": [
    "web_search_response = client.messages.create(\n",
    "    model=\"claude-3-7-sonnet-latest\",\n",
    "    max_tokens=100,\n",
    "    messages=messages,\n",
    "    tools=[{\n",
    "        \"type\": \"web_search_20250305\",\n",
    "        \"name\": \"web_search\",\n",
    "        \"max_uses\": 5\n",
    "    }]\n",
    ")\n",
    "\n",
    "\n",
    "print(json.dumps(web_search_response.model_dump(), indent=4))"
   ]
  },
  {
   "cell_type": "markdown",
   "metadata": {},
   "source": [
    "We can see that the `web_search` tool returned 10 resutls containing the the `encrypted_content`, `page_age`, `title`, `type` and `url` from the performed search as an array in the content property of the response. We pass this array as the `assistant` message back to Claude to generate a summary of the content."
   ]
  },
  {
   "cell_type": "code",
   "execution_count": 4,
   "metadata": {},
   "outputs": [
    {
     "name": "stdout",
     "output_type": "stream",
     "text": [
      "{\n",
      "    \"id\": \"msg_01HJHNELrB56JK8anfqXYiNu\",\n",
      "    \"content\": [\n",
      "        {\n",
      "            \"citations\": null,\n",
      "            \"text\": \"Here's a summary of the current Pope situation:\\n\\nPope Francis passed away on April 21, 2025, at the age of 88. Following his death, a conclave of cardinals gathered at the Vatican to elect his successor.\\n\\nOn May 8, 2025, Cardinal Robert Francis Prevost was elected as the 267th pope of the Catholic Church. He has taken the name Pope Leo XIV and is the first American-born pope in history. Cardinal Prevost, who is 69 years old, was born in Chicago but spent much of his career as a missionary in Peru, where he also holds citizenship.\\n\\nPrior to becoming pope, Prevost was an Augustinian friar who most recently served as the prefect of the Dicastery for Bishops in the Vatican. He was elevated to cardinal by Pope Francis in 2023.\\n\\nThis historic election represents a significant moment for the Catholic Church, as Leo XIV is expected to continue many of Francis's reforms while bringing his own perspective as the first North American pontiff.\",\n",
      "            \"type\": \"text\"\n",
      "        }\n",
      "    ],\n",
      "    \"model\": \"claude-3-7-sonnet-20250219\",\n",
      "    \"role\": \"assistant\",\n",
      "    \"stop_reason\": \"end_turn\",\n",
      "    \"stop_sequence\": null,\n",
      "    \"type\": \"message\",\n",
      "    \"usage\": {\n",
      "        \"cache_creation_input_tokens\": 0,\n",
      "        \"cache_read_input_tokens\": 0,\n",
      "        \"input_tokens\": 13121,\n",
      "        \"output_tokens\": 224,\n",
      "        \"server_tool_use\": null\n",
      "    }\n",
      "}\n"
     ]
    }
   ],
   "source": [
    "messages.append({'role': 'assistant', 'content': web_search_response.content})\n",
    "messages.append({\n",
    "    \"role\": \"user\",\n",
    "    \"content\": \"summarize the result\"\n",
    "})\n",
    "\n",
    "final_response = client.messages.create(\n",
    "    model=\"claude-3-7-sonnet-latest\",\n",
    "    max_tokens=1024,\n",
    "    messages=messages,\n",
    ")\n",
    "\n",
    "\n",
    "print(json.dumps(final_response.model_dump(), indent=4))"
   ]
  },
  {
   "cell_type": "markdown",
   "metadata": {},
   "source": [
    "## Print the final results"
   ]
  },
  {
   "cell_type": "code",
   "execution_count": 5,
   "metadata": {},
   "outputs": [
    {
     "name": "stdout",
     "output_type": "stream",
     "text": [
      "Here's a summary of the current Pope situation:\n",
      "\n",
      "Pope Francis passed away on April 21, 2025, at the age of 88. Following his death, a conclave of cardinals gathered at the Vatican to elect his successor.\n",
      "\n",
      "On May 8, 2025, Cardinal Robert Francis Prevost was elected as the 267th pope of the Catholic Church. He has taken the name Pope Leo XIV and is the first American-born pope in history. Cardinal Prevost, who is 69 years old, was born in Chicago but spent much of his career as a missionary in Peru, where he also holds citizenship.\n",
      "\n",
      "Prior to becoming pope, Prevost was an Augustinian friar who most recently served as the prefect of the Dicastery for Bishops in the Vatican. He was elevated to cardinal by Pope Francis in 2023.\n",
      "\n",
      "This historic election represents a significant moment for the Catholic Church, as Leo XIV is expected to continue many of Francis's reforms while bringing his own perspective as the first North American pontiff.\n"
     ]
    }
   ],
   "source": [
    "for content in final_response.content:\n",
    "    print(content.text)"
   ]
  }
 ],
 "metadata": {
  "kernelspec": {
   "display_name": ".venv",
   "language": "python",
   "name": "python3"
  },
  "language_info": {
   "codemirror_mode": {
    "name": "ipython",
    "version": 3
   },
   "file_extension": ".py",
   "mimetype": "text/x-python",
   "name": "python",
   "nbconvert_exporter": "python",
   "pygments_lexer": "ipython3",
   "version": "3.11.11"
  }
 },
 "nbformat": 4,
 "nbformat_minor": 2
}
